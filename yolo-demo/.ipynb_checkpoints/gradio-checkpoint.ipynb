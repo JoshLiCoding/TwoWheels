{
 "cells": [
  {
   "cell_type": "code",
   "execution_count": 13,
   "id": "67c1587d-7add-42e1-8a80-1bd10e9ed95b",
   "metadata": {},
   "outputs": [],
   "source": [
    "from ultralytics import YOLO\n",
    "from ultralytics.utils.plotting import Annotator\n",
    "import torch\n",
    "import gradio as gr"
   ]
  },
  {
   "cell_type": "code",
   "execution_count": 2,
   "id": "7ddd31f5-ef8f-48a7-8620-7ff3c4f840c8",
   "metadata": {},
   "outputs": [],
   "source": [
    "model = YOLO('../yolo/runs/detect/train22/weights/best.pt')"
   ]
  },
  {
   "cell_type": "code",
   "execution_count": 26,
   "id": "def350e3-f67e-439a-b07f-aae0bf16c2bd",
   "metadata": {},
   "outputs": [],
   "source": [
    "def yolo_pred(image):\n",
    "    result = model.predict(image)[0]\n",
    "    annotator = Annotator(result.orig_img)\n",
    "    color_list = [(107, 31, 45), (32, 102, 50), (32, 45, 102)]\n",
    "    for label in result.boxes.data.detach().numpy():\n",
    "        annotator.box_label(\n",
    "            label[0:4],\n",
    "            f\"{result.names[label[-1].item()]} {round(label[-2], 2)}\",\n",
    "            color_list[int(label[-1].item())]\n",
    "        )\n",
    "    return annotator.im"
   ]
  },
  {
   "cell_type": "code",
   "execution_count": 27,
   "id": "1fe21501-4c75-43fb-bbec-e06cec4f3da7",
   "metadata": {},
   "outputs": [
    {
     "name": "stdout",
     "output_type": "stream",
     "text": [
      "Running on local URL:  http://127.0.0.1:7871\n",
      "\n",
      "To create a public link, set `share=True` in `launch()`.\n"
     ]
    },
    {
     "data": {
      "text/html": [
       "<div><iframe src=\"http://127.0.0.1:7871/\" width=\"100%\" height=\"500\" allow=\"autoplay; camera; microphone; clipboard-read; clipboard-write;\" frameborder=\"0\" allowfullscreen></iframe></div>"
      ],
      "text/plain": [
       "<IPython.core.display.HTML object>"
      ]
     },
     "metadata": {},
     "output_type": "display_data"
    },
    {
     "data": {
      "text/plain": []
     },
     "execution_count": 27,
     "metadata": {},
     "output_type": "execute_result"
    },
    {
     "name": "stdout",
     "output_type": "stream",
     "text": [
      "\n",
      "0: 512x1024 1 cyclist, 77.6ms\n",
      "Speed: 6.0ms preprocess, 77.6ms inference, 1.0ms postprocess per image at shape (1, 3, 512, 1024)\n"
     ]
    }
   ],
   "source": [
    "gr.Interface(fn=yolo_pred, inputs=\"image\", outputs=\"image\").launch()"
   ]
  },
  {
   "cell_type": "code",
   "execution_count": null,
   "id": "374a5be1-905a-4b15-8877-bfc3795d9a1e",
   "metadata": {},
   "outputs": [],
   "source": []
  }
 ],
 "metadata": {
  "kernelspec": {
   "display_name": "Python 3 (ipykernel)",
   "language": "python",
   "name": "python3"
  },
  "language_info": {
   "codemirror_mode": {
    "name": "ipython",
    "version": 3
   },
   "file_extension": ".py",
   "mimetype": "text/x-python",
   "name": "python",
   "nbconvert_exporter": "python",
   "pygments_lexer": "ipython3",
   "version": "3.10.11"
  }
 },
 "nbformat": 4,
 "nbformat_minor": 5
}
